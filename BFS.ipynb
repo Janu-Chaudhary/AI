{
 "cells": [
  {
   "cell_type": "markdown",
   "id": "74a2fb14",
   "metadata": {},
   "source": [
    "## BFS d \n",
    "- BFS provides the shortest distance to traverse all nodes from the given starting node"
   ]
  },
  {
   "cell_type": "code",
   "execution_count": 3,
   "id": "03b305fd",
   "metadata": {},
   "outputs": [],
   "source": [
    "adjacency_lst = {\"A\":[\"B\",\"C\"],\"B\":[\"D\",\"E\"],\"C\":[\"F\"],\"D\":[],\"E\":[\"F\"],\"F\":[]}"
   ]
  },
  {
   "cell_type": "code",
   "execution_count": null,
   "id": "edfb75e7",
   "metadata": {},
   "outputs": [],
   "source": [
    "def BFS(adjacency_lst,start_node):\n",
    "    color = {u: \"WHITE\" for u in adjacency_lst}\n",
    "    distance = {u: float(\"inf\") for u in adjacency_lst}\n",
    "    parent = {u: None for u in adjacency_lst}\n",
    "\n",
    "    s = [start_node]\n",
    "    distance[start_node] = 0\n",
    "\n",
    "    while s:   \n",
    "        node = s.pop(0)\n",
    "        for adjacent_node in adjacency_lst[node]:\n",
    "            if color[adjacent_node] == \"WHITE\":\n",
    "                color[adjacent_node] = \"GREY\"\n",
    "                distance[adjacent_node] = distance[node] + 1\n",
    "                parent[adjacent_node] = node\n",
    "                s.append(adjacent_node)\n",
    "        color[node] = \"BLACK\"\n",
    "\n",
    "    return distance, parent,color\n",
    "             "
   ]
  },
  {
   "cell_type": "code",
   "execution_count": null,
   "id": "b6539f58",
   "metadata": {},
   "outputs": [],
   "source": [
    "BFS(adjacency_lst,\"A\")"
   ]
  },
  {
   "cell_type": "code",
   "execution_count": null,
   "id": "2609c940",
   "metadata": {},
   "outputs": [],
   "source": [
    "def BFS2(adjacency_lst, start_node, stop_node):\n",
    "    color = {u: \"WHITE\" for u in adjacency_lst}\n",
    "    distance = {u: float(\"inf\") for u in adjacency_lst}\n",
    "    parent = {u: None for u in adjacency_lst}\n",
    "\n",
    "    s = [start_node]\n",
    "    color[start_node] = \"GREY\"\n",
    "    distance[start_node] = 0\n",
    "    path = []\n",
    "    comparison = 0\n",
    "\n",
    "    while s:\n",
    "        node = s.pop(0)\n",
    "\n",
    "        for adjacent_node in adjacency_lst[node]:\n",
    "            if color[adjacent_node] == \"WHITE\":\n",
    "                color[adjacent_node] = \"GREY\"\n",
    "                distance[adjacent_node] = distance[node] + 1\n",
    "                parent[adjacent_node] = node\n",
    "                \n",
    "                comparison += 1\n",
    "                path.append(node)\n",
    "                path.append(adjacent_node)\n",
    "                if adjacent_node == stop_node:\n",
    "                    return path, comparison\n",
    "     \n",
    "                s.append(adjacent_node)\n",
    "\n",
    "        color[node] = \"BLACK\"\n",
    "\n",
    "    return \"There is no path\"\n",
    "             "
   ]
  },
  {
   "cell_type": "code",
   "execution_count": 25,
   "id": "cca95d63",
   "metadata": {},
   "outputs": [
    {
     "name": "stdout",
     "output_type": "stream",
     "text": [
      "(['A', 'B', 'A', 'C', 'B', 'D', 'B', 'E', 'C', 'F'], 5)\n"
     ]
    }
   ],
   "source": [
    "print(BFS2(adjacency_lst,\"A\",\"F\"))"
   ]
  },
  {
   "cell_type": "code",
   "execution_count": null,
   "id": "2d9b74f1",
   "metadata": {},
   "outputs": [],
   "source": []
  }
 ],
 "metadata": {
  "kernelspec": {
   "display_name": "Python 3",
   "language": "python",
   "name": "python3"
  },
  "language_info": {
   "codemirror_mode": {
    "name": "ipython",
    "version": 3
   },
   "file_extension": ".py",
   "mimetype": "text/x-python",
   "name": "python",
   "nbconvert_exporter": "python",
   "pygments_lexer": "ipython3",
   "version": "3.12.3"
  }
 },
 "nbformat": 4,
 "nbformat_minor": 5
}
