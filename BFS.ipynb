{
 "cells": [
  {
   "cell_type": "markdown",
   "id": "74a2fb14",
   "metadata": {},
   "source": [
    "## BFS d \n",
    "- BFS provides the shortest distance to traverse all nodes from the given starting node"
   ]
  },
  {
   "cell_type": "code",
   "execution_count": null,
   "id": "03b305fd",
   "metadata": {
    "vscode": {
     "languageId": "plaintext"
    }
   },
   "outputs": [],
   "source": [
    "adjacency_lst = {\"A\":[\"B\",\"C\"],\"B\":[\"D\",\"E\"],\"C\":[\"F\"],\"D\":[],\"E\":[\"F\"],\"F\":[]}"
   ]
  },
  {
   "cell_type": "code",
   "execution_count": null,
   "id": "edfb75e7",
   "metadata": {
    "vscode": {
     "languageId": "plaintext"
    }
   },
   "outputs": [],
   "source": [
    "def BFS(adjacency_lst,start_node):\n",
    "    color = {u: \"WHITE\" for u in adjacency_lst}\n",
    "    distance = {u: float(\"inf\") for u in adjacency_lst}\n",
    "    parent = {u: None for u in adjacency_lst}\n",
    "\n",
    "    s = [start_node]\n",
    "    distance[start_node] = 0\n",
    "\n",
    "    while s:   \n",
    "        node = s.pop(0)\n",
    "        for adjacent_node in adjacency_lst[node]:\n",
    "            if color[adjacent_node] == \"WHITE\":\n",
    "                color[adjacent_node] = \"GREY\"\n",
    "                distance[adjacent_node] = distance[node] + 1\n",
    "                parent[adjacent_node] = node\n",
    "                s.append(adjacent_node)\n",
    "        color[node] = \"BLACK\"\n",
    "\n",
    "    return distance, parent,color\n",
    "             "
   ]
  },
  {
   "cell_type": "code",
   "execution_count": null,
   "id": "b6539f58",
   "metadata": {
    "vscode": {
     "languageId": "plaintext"
    }
   },
   "outputs": [],
   "source": [
    "BFS(adjacency_lst,\"A\")"
   ]
  }
 ],
 "metadata": {
  "language_info": {
   "name": "python"
  }
 },
 "nbformat": 4,
 "nbformat_minor": 5
}
