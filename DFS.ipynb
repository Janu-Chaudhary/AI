{
 "cells": [
  {
   "cell_type": "code",
   "execution_count": 8,
   "id": "f9ed7792",
   "metadata": {},
   "outputs": [],
   "source": [
    "adjacency_lst = {\"U\":[\"V\",\"X\"],\"V\":[\"Y\"],\"Y\":[\"X\"],\"X\":[\"V\"],\"W\":[\"Z\",\"Y\"],\"Z\":[\"Z\"]}\n",
    "G = [\"U\",\"V\",\"Y\",\"X\",\"W\",\"Z\"]\n"
   ]
  },
  {
   "cell_type": "code",
   "execution_count": 9,
   "id": "90c2beaf",
   "metadata": {},
   "outputs": [],
   "source": [
    "def DFS(G):\n",
    "    color = {u:\"WHITE\" for u in G}\n",
    "    time = {u:[0,0] for u in G}\n",
    "    parent = {u:None for u in G}\n",
    "    tracktime = 0\n",
    "    \n",
    "    def VisitDfs(u):\n",
    "        color[u] = \"GRAY\"\n",
    "        nonlocal tracktime\n",
    "        tracktime += 1\n",
    "        time[u][0] = tracktime\n",
    "        for v in adjacency_lst[u]:\n",
    "            if color[v] == \"WHITE\":\n",
    "                parent[v] = u\n",
    "                VisitDfs(v)\n",
    "        color[u] = \"BLACK\"\n",
    "\n",
    "        tracktime += 1\n",
    "        time[u][1] = tracktime\n",
    "\n",
    "\n",
    "\n",
    "    for u in G:\n",
    "        if color[u] == \"WHITE\":\n",
    "            VisitDfs(u)\n",
    "\n",
    "    return time, parent\n"
   ]
  },
  {
   "cell_type": "code",
   "execution_count": 10,
   "id": "dee27d2e",
   "metadata": {},
   "outputs": [
    {
     "data": {
      "text/plain": [
       "({'U': [1, 8],\n",
       "  'V': [2, 7],\n",
       "  'Y': [3, 6],\n",
       "  'X': [4, 5],\n",
       "  'W': [9, 12],\n",
       "  'Z': [10, 11]},\n",
       " {'U': None, 'V': 'U', 'Y': 'V', 'X': 'Y', 'W': None, 'Z': 'W'})"
      ]
     },
     "execution_count": 10,
     "metadata": {},
     "output_type": "execute_result"
    }
   ],
   "source": [
    "DFS(G)"
   ]
  },
  {
   "cell_type": "code",
   "execution_count": 9,
   "id": "762a72d9",
   "metadata": {},
   "outputs": [],
   "source": [
    "def BFS2(adjacency_lst, start_node, stop_node):\n",
    "    color = {u: \"WHITE\" for u in adjacency_lst}\n",
    "    distance = {u: float(\"inf\") for u in adjacency_lst}\n",
    "    parent = {u: None for u in adjacency_lst}\n",
    "\n",
    "    s = [start_node]\n",
    "    color[start_node] = \"GREY\"\n",
    "    distance[start_node] = 0\n",
    "    path = []\n",
    "    comparison = 0\n",
    "\n",
    "    while s:\n",
    "        node = s.pop(0)\n",
    "\n",
    "        for adjacent_node in adjacency_lst[node]:\n",
    "            if color[adjacent_node] == \"WHITE\":\n",
    "                color[adjacent_node] = \"GREY\"\n",
    "                distance[adjacent_node] = distance[node] + 1\n",
    "                parent[adjacent_node] = node\n",
    "                \n",
    "                comparison += 1\n",
    "                path.append(node)\n",
    "                path.append(adjacent_node)\n",
    "                if adjacent_node == stop_node:\n",
    "                    return comparison\n",
    "     \n",
    "                s.append(adjacent_node)\n",
    "\n",
    "        color[node] = \"BLACK\"\n",
    "\n",
    "    return \"There is no path\"\n",
    "             "
   ]
  },
  {
   "cell_type": "code",
   "execution_count": 10,
   "id": "f8224a2f",
   "metadata": {},
   "outputs": [],
   "source": [
    "def DFS2(G,start_node, stop_node):\n",
    "    color = {u:\"WHITE\" for u in G}\n",
    "    time = {u:[0,0] for u in G}\n",
    "    parent = {u:None for u in G}\n",
    "    tracktime = 0\n",
    "    path = []\n",
    "    comparison = 0\n",
    "    \n",
    "    def VisitDfs(u,stop_node):\n",
    "        color[u] = \"GRAY\"\n",
    "        nonlocal comparison\n",
    "        nonlocal path\n",
    "        path.append(u)\n",
    "        if u == stop_node:\n",
    "            return comparison\n",
    "\n",
    "        nonlocal tracktime\n",
    "        tracktime += 1\n",
    "        time[u][0] = tracktime\n",
    "        for v in adjacency_lst[u]:\n",
    "            if color[v] == \"WHITE\":\n",
    "                parent[v] = u\n",
    "                comparison += 1\n",
    "                new_path = VisitDfs(v,stop_node)\n",
    "                if new_path:\n",
    "                    return new_path\n",
    "                else:\n",
    "                    path.append(u)\n",
    "        color[u] = \"BLACK\"\n",
    "\n",
    "        tracktime += 1\n",
    "        time[u][1] = tracktime\n",
    "\n",
    "    path = VisitDfs(start_node,stop_node)\n",
    "    if path:\n",
    "        return path\n",
    "    return \"Path not found\" \n",
    "\n",
    "\n",
    "    \n"
   ]
  },
  {
   "cell_type": "code",
   "execution_count": 7,
   "id": "8f94f506",
   "metadata": {},
   "outputs": [
    {
     "data": {
      "text/plain": [
       "(['W', 'Z', 'W', 'Y', 'X'], 3)"
      ]
     },
     "execution_count": 7,
     "metadata": {},
     "output_type": "execute_result"
    }
   ],
   "source": [
    "DFS2(G,\"W\",\"X\")"
   ]
  },
  {
   "cell_type": "code",
   "execution_count": 17,
   "id": "9539dc23",
   "metadata": {},
   "outputs": [],
   "source": [
    "def compareDFS_BFS(G,start_node,stop_node):\n",
    "    pathDFS = DFS2(G,start_node,stop_node)\n",
    "    pathBFS = BFS2(adjacency_lst,start_node,stop_node)\n",
    "    return f\"Steps taken in BFS: {pathBFS}, Steps taken in DFS: {pathDFS}\""
   ]
  },
  {
   "cell_type": "code",
   "execution_count": 18,
   "id": "637cec3d",
   "metadata": {},
   "outputs": [
    {
     "data": {
      "text/plain": [
       "'Steps taken in BFS: 2, Steps taken in DFS: 3'"
      ]
     },
     "execution_count": 18,
     "metadata": {},
     "output_type": "execute_result"
    }
   ],
   "source": [
    "compareDFS_BFS(G,\"U\",\"X\")"
   ]
  },
  {
   "cell_type": "code",
   "execution_count": null,
   "id": "c6f93ea9",
   "metadata": {},
   "outputs": [],
   "source": []
  }
 ],
 "metadata": {
  "kernelspec": {
   "display_name": "Python 3",
   "language": "python",
   "name": "python3"
  },
  "language_info": {
   "codemirror_mode": {
    "name": "ipython",
    "version": 3
   },
   "file_extension": ".py",
   "mimetype": "text/x-python",
   "name": "python",
   "nbconvert_exporter": "python",
   "pygments_lexer": "ipython3",
   "version": "3.12.3"
  }
 },
 "nbformat": 4,
 "nbformat_minor": 5
}
