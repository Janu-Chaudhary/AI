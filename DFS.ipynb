{
 "cells": [
  {
   "cell_type": "code",
   "execution_count": 8,
   "id": "f9ed7792",
   "metadata": {},
   "outputs": [],
   "source": [
    "adjacency_lst = {\"U\":[\"V\",\"X\"],\"V\":[\"Y\"],\"Y\":[\"X\"],\"X\":[\"V\"],\"W\":[\"Z\",\"Y\"],\"Z\":[\"Z\"]}\n",
    "G = [\"U\",\"V\",\"Y\",\"X\",\"W\",\"Z\"]\n"
   ]
  },
  {
   "cell_type": "code",
   "execution_count": 9,
   "id": "90c2beaf",
   "metadata": {},
   "outputs": [],
   "source": [
    "def DFS(G):\n",
    "    color = {u:\"WHITE\" for u in G}\n",
    "    time = {u:[0,0] for u in G}\n",
    "    parent = {u:None for u in G}\n",
    "    tracktime = 0\n",
    "    \n",
    "    def VisitDfs(u):\n",
    "        color[u] = \"GRAY\"\n",
    "        nonlocal tracktime\n",
    "        tracktime += 1\n",
    "        time[u][0] = tracktime\n",
    "        for v in adjacency_lst[u]:\n",
    "            if color[v] == \"WHITE\":\n",
    "                parent[v] = u\n",
    "                VisitDfs(v)\n",
    "        color[u] = \"BLACK\"\n",
    "\n",
    "        tracktime += 1\n",
    "        time[u][1] = tracktime\n",
    "\n",
    "\n",
    "\n",
    "    for u in G:\n",
    "        if color[u] == \"WHITE\":\n",
    "            VisitDfs(u)\n",
    "\n",
    "    return time, parent\n"
   ]
  },
  {
   "cell_type": "code",
   "execution_count": 10,
   "id": "dee27d2e",
   "metadata": {},
   "outputs": [
    {
     "data": {
      "text/plain": [
       "({'U': [1, 8],\n",
       "  'V': [2, 7],\n",
       "  'Y': [3, 6],\n",
       "  'X': [4, 5],\n",
       "  'W': [9, 12],\n",
       "  'Z': [10, 11]},\n",
       " {'U': None, 'V': 'U', 'Y': 'V', 'X': 'Y', 'W': None, 'Z': 'W'})"
      ]
     },
     "execution_count": 10,
     "metadata": {},
     "output_type": "execute_result"
    }
   ],
   "source": [
    "DFS(G)"
   ]
  },
  {
   "cell_type": "code",
   "execution_count": null,
   "id": "f8224a2f",
   "metadata": {},
   "outputs": [],
   "source": []
  }
 ],
 "metadata": {
  "kernelspec": {
   "display_name": "Python 3",
   "language": "python",
   "name": "python3"
  },
  "language_info": {
   "codemirror_mode": {
    "name": "ipython",
    "version": 3
   },
   "file_extension": ".py",
   "mimetype": "text/x-python",
   "name": "python",
   "nbconvert_exporter": "python",
   "pygments_lexer": "ipython3",
   "version": "3.12.3"
  }
 },
 "nbformat": 4,
 "nbformat_minor": 5
}
