{
  "cells": [
    {
      "cell_type": "markdown",
      "metadata": {
        "colab_type": "text",
        "id": "view-in-github"
      },
      "source": [
        "<a href=\"https://colab.research.google.com/github/aruntakhur/SitareUniversity/blob/main/MinMax_Search_Lab.ipynb\" target=\"_parent\"><img src=\"https://colab.research.google.com/assets/colab-badge.svg\" alt=\"Open In Colab\"/></a>"
      ]
    },
    {
      "cell_type": "markdown",
      "metadata": {
        "id": "Btd5ixFj6Bv5"
      },
      "source": [
        "# Lab Assignment: Tic Tac Toe with Minimax Search\n",
        "\n",
        "## Objective\n",
        "In this lab, you will:\n",
        "- Implement Tic Tac Toe using Python.\n",
        "- Write state functions (`S0`, `Player`, `Actions`, `Result`, `Terminal`, `Utility`).\n",
        "- Implement the **Minimax algorithm**.\n",
        "- Count the number of states evaluated.\n",
        "- Compare theoretical vs actual states explored."
      ]
    },
    {
      "cell_type": "code",
      "execution_count": 4,
      "metadata": {
        "id": "kz7sExzS56jF"
      },
      "outputs": [],
      "source": [
        "# -----------------------------\n",
        "# Part A: State Representation\n",
        "# -----------------------------\n",
        "\n",
        "# Initial state (state): empty 3x3 board\n",
        "S0 = [\" \" for _ in range(9)]\n",
        "\n",
        "\n",
        "def print_board(state):\n",
        "    \"\"\"Print the board in a 3x3 format\"\"\"\n",
        "    print(state[0]+\"|\"+state[1]+\"|\"+state[2])\n",
        "    print(\"-+-+-\")\n",
        "    print(state[3]+\"|\"+state[4]+\"|\"+state[5])\n",
        "    print(\"-+-+-\")\n",
        "    print(state[6]+\"|\"+state[7]+\"|\"+state[8])\n",
        "\n"
      ]
    },
    {
      "cell_type": "code",
      "execution_count": null,
      "metadata": {
        "id": "fwonz2Ud6Mx0"
      },
      "outputs": [],
      "source": [
        "# -----------------------------\n",
        "# TODO Part A: Implement State Functions\n",
        "# -----------------------------\n",
        "\n",
        "def Player(state):\n",
        "    \"\"\"Return which player has the next turn\"\"\"\n",
        "    # TODO: Implement using counts of X and O\n",
        "    if state.count(\"X\") == 0:\n",
        "        return \"X\"\n",
        "    elif state.count(\"X\") > state.count(\"O\"):\n",
        "        return \"O\"\n",
        "    else:\n",
        "        return \"X\"  \n",
        "\n",
        "\n",
        "def Actions(state):\n",
        "    \"\"\"Return list of legal moves\"\"\"\n",
        "    # TODO: Return all indexes that are still empty\n",
        "    return [i for i, cell in enumerate(state) if cell == \" \"]\n",
        "\n",
        "\n",
        "def Result(state, action):\n",
        "    \"\"\"Return new state after action is taken\"\"\"\n",
        "    # TODO: Copy the state and apply the move\n",
        "    state[action] = Player(state)\n",
        "    return state\n",
        "\n",
        "\n",
        "def Terminal(state):\n",
        "    \"\"\"Return True if the state is terminal (win or draw)\"\"\"\n",
        "    # TODO: Check for win or if no moves left\n",
        "    if state.count(\"X\") + state.count(\"O\") == 9:\n",
        "        return True\n",
        "    if state[0] == state[1] == state[2] == \"X\" or state[3] == state[4] == state[5] == \"X\" or state[6] == state[7] == state[8] == \"X\" or state[0] == state[3] == state[6] == \"X\" or state[1] == state[4] == state[7] == \"X\" or state[2] == state[5] == state[8] == \"X\" or state[0] == state[4] == state[8] == \"X\" or state[2] == state[4] == state[6] == \"X\":\n",
        "        return True\n",
        "    elif state[0] == state[1] == state[2] == \"O\" or state[3] == state[4] == state[5] == \"O\" or state[6] == state[7] == state[8] == \"O\" or state[0] == state[3] == state[6] == \"O\" or state[1] == state[4] == state[7] == \"O\" or state[2] == state[5] == state[8] == \"O\" or state[0] == state[4] == state[8] == \"O\" or state[2] == state[4] == state[6] == \"O\":\n",
        "        return True\n",
        "    else:\n",
        "        return False\n",
        "    \n",
        "\n",
        "\n",
        "def Utility(state):\n",
        "    \"\"\"Return +1 if X wins, -1 if O wins, else 0\"\"\"\n",
        "    \n",
        "    # 1. Check for a win\n",
        "    if (state[0] == state[1] == state[2] == \"X\" or\n",
        "        state[3] == state[4] == state[5] == \"X\" or\n",
        "        state[6] == state[7] == state[8] == \"X\" or\n",
        "        state[0] == state[3] == state[6] == \"X\" or\n",
        "        state[1] == state[4] == state[7] == \"X\" or\n",
        "        state[2] == state[5] == state[8] == \"X\" or\n",
        "        state[0] == state[4] == state[8] == \"X\" or\n",
        "        state[2] == state[4] == state[6] == \"X\"):\n",
        "        return 1\n",
        "    elif (state[0] == state[1] == state[2] == \"O\" or\n",
        "          state[3] == state[4] == state[5] == \"O\" or\n",
        "          state[6] == state[7] == state[8] == \"O\" or\n",
        "          state[0] == state[3] == state[6] == \"O\" or\n",
        "          state[1] == state[4] == state[7] == \"O\" or\n",
        "          state[2] == state[5] == state[8] == \"O\" or\n",
        "          state[0] == state[4] == state[8] == \"O\" or\n",
        "          state[2] == state[4] == state[6] == \"O\"):\n",
        "        return -1\n",
        "        \n",
        "    # 2. Check for a draw (only if there's no winner)\n",
        "    elif state.count(\"X\") + state.count(\"O\") == 9:\n",
        "        return 0\n",
        "        \n",
        "    # 3. Otherwise, the game is still in progress.\n",
        "    else:\n",
        "        return 0"
      ]
    },
    {
      "cell_type": "code",
      "execution_count": 35,
      "metadata": {
        "id": "rnBBSH8o6Rhh"
      },
      "outputs": [],
      "source": [
        "# -----------------------------\n",
        "# Part B: Minimax Implementation\n",
        "# -----------------------------\n",
        "\n",
        "def MAX_VALUE(state):\n",
        "    global call_count\n",
        "    call_count += 1\n",
        "\n",
        "    if Terminal(state):\n",
        "        return Utility(state)\n",
        "        # return float(\"-inf\")\n",
        "\n",
        "    v = float(\"-inf\")\n",
        "    for action in Actions(state):\n",
        "        # print(state,Player(state),action)\n",
        "        res =  MIN_VALUE(Result(state.copy(),action))\n",
        "        # print(f\"THIS IS FROM MAX - {res}\")\n",
        "        v = max(v,res)\n",
        "    return v\n",
        "\n",
        "\n",
        "def MIN_VALUE(state):\n",
        "    global call_count\n",
        "    call_count += 1\n",
        "\n",
        "    if Terminal(state):\n",
        "        return Utility(state)\n",
        "        # return float(\"inf\")\n",
        "\n",
        "    v = float(\"inf\")\n",
        "    for action in Actions(state):\n",
        "        # print(state,Player(state),action)\n",
        "        res =  MAX_VALUE(Result(state.copy(),action))\n",
        "        # print(f\"THIS IS FROM MIN - {res}\")\n",
        "        v = min(v,res)\n",
        "    return v\n",
        "\n",
        "\n",
        "def minimax_decision(state):\n",
        "    \"\"\"Return best move for current player\"\"\"\n",
        "    global call_count\n",
        "    call_count = 0\n",
        "\n",
        "    player = Player(state)\n",
        "    best_move = None\n",
        "\n",
        "    if player == \"X\":\n",
        "        best_val = float(\"-inf\")\n",
        "        for action in Actions(state):\n",
        "            val = MAX_VALUE(Result(state.copy(), action))\n",
        "            if val > best_val:\n",
        "                best_val = val\n",
        "                best_move = action\n",
        "    else:\n",
        "        best_val = float(\"inf\")\n",
        "        for action in Actions(state):\n",
        "            # print(Actions(state))\n",
        "            val = MIN_VALUE(Result(state.copy(), action))\n",
        "            # print(f\"{action} - {val}\")\n",
        "            if val < best_val:\n",
        "                best_val = val\n",
        "                best_move = action\n",
        "\n",
        "    return best_move,call_count"
      ]
    },
    {
      "cell_type": "code",
      "execution_count": null,
      "metadata": {
        "id": "MzX_7U456h-E"
      },
      "outputs": [],
      "source": [
        "# -----------------------------\n",
        "# Part C: Human vs AI Game\n",
        "# -----------------------------\n",
        "# Add Code to detect invalid move also\n",
        "def valid_move (state,move):\n",
        "    if move in Actions(state):\n",
        "        return True\n",
        "    return False\n",
        "\n",
        "def play():\n",
        "    state = S0.copy()\n",
        "\n",
        "    while not Terminal(state):\n",
        "        print_board(state)\n",
        "        if Player(state) == \"X\":  # Human move\n",
        "            move = int(input(\"Enter your move (1-9): \")) - 1\n",
        "            while not valid_move(state,move):\n",
        "                print(\"Position which you entered is taken by AI....\")\n",
        "                move = int(input(\"Enter your move (1-9): \")) - 1\n",
        "\n",
        "        else:  # AI move\n",
        "            print(\"AI is thinking...\")\n",
        "            move,call_count = minimax_decision(state.copy())\n",
        "            print(f\"AI explored {call_count} for making this decision...\")\n",
        "\n",
        "        state = Result(state, move)\n",
        "\n",
        "    print_board(state)\n",
        "    if Utility(state) == 1:\n",
        "        print(\"X wins!\")\n",
        "    elif Utility(state) == -1:\n",
        "        print(\"O wins!\")\n",
        "    else:\n",
        "        print(\"It's a draw!\")"
      ]
    },
    {
      "cell_type": "code",
      "execution_count": 37,
      "metadata": {},
      "outputs": [
        {
          "name": "stdout",
          "output_type": "stream",
          "text": [
            " | | \n",
            "-+-+-\n",
            " | | \n",
            "-+-+-\n",
            " | | \n",
            " | | \n",
            "-+-+-\n",
            " |X| \n",
            "-+-+-\n",
            " | | \n",
            "AI is thinking...\n",
            "AI explored 55504 for making this decision...\n",
            "O| | \n",
            "-+-+-\n",
            " |X| \n",
            "-+-+-\n",
            " | | \n",
            "O| |X\n",
            "-+-+-\n",
            " |X| \n",
            "-+-+-\n",
            " | | \n",
            "AI is thinking...\n",
            "AI explored 932 for making this decision...\n",
            "O| |X\n",
            "-+-+-\n",
            " |X| \n",
            "-+-+-\n",
            "O| | \n"
          ]
        },
        {
          "ename": "ValueError",
          "evalue": "invalid literal for int() with base 10: ''",
          "output_type": "error",
          "traceback": [
            "\u001b[0;31m---------------------------------------------------------------------------\u001b[0m",
            "\u001b[0;31mValueError\u001b[0m                                Traceback (most recent call last)",
            "Cell \u001b[0;32mIn[37], line 1\u001b[0m\n\u001b[0;32m----> 1\u001b[0m \u001b[43mplay\u001b[49m\u001b[43m(\u001b[49m\u001b[43m)\u001b[49m\n",
            "Cell \u001b[0;32mIn[36], line 16\u001b[0m, in \u001b[0;36mplay\u001b[0;34m()\u001b[0m\n\u001b[1;32m     14\u001b[0m print_board(state)\n\u001b[1;32m     15\u001b[0m \u001b[38;5;28;01mif\u001b[39;00m Player(state) \u001b[38;5;241m==\u001b[39m \u001b[38;5;124m\"\u001b[39m\u001b[38;5;124mX\u001b[39m\u001b[38;5;124m\"\u001b[39m:  \u001b[38;5;66;03m# Human move\u001b[39;00m\n\u001b[0;32m---> 16\u001b[0m     move \u001b[38;5;241m=\u001b[39m \u001b[38;5;28;43mint\u001b[39;49m\u001b[43m(\u001b[49m\u001b[38;5;28;43minput\u001b[39;49m\u001b[43m(\u001b[49m\u001b[38;5;124;43m\"\u001b[39;49m\u001b[38;5;124;43mEnter your move (1-9): \u001b[39;49m\u001b[38;5;124;43m\"\u001b[39;49m\u001b[43m)\u001b[49m\u001b[43m)\u001b[49m \u001b[38;5;241m-\u001b[39m \u001b[38;5;241m1\u001b[39m\n\u001b[1;32m     17\u001b[0m     \u001b[38;5;28;01mwhile\u001b[39;00m \u001b[38;5;129;01mnot\u001b[39;00m valid_move(state,move):\n\u001b[1;32m     18\u001b[0m         move \u001b[38;5;241m=\u001b[39m \u001b[38;5;28mint\u001b[39m(\u001b[38;5;28minput\u001b[39m(\u001b[38;5;124m\"\u001b[39m\u001b[38;5;124mEnter your move (1-9): \u001b[39m\u001b[38;5;124m\"\u001b[39m)) \u001b[38;5;241m-\u001b[39m \u001b[38;5;241m1\u001b[39m\n",
            "\u001b[0;31mValueError\u001b[0m: invalid literal for int() with base 10: ''"
          ]
        }
      ],
      "source": [
        "play()"
      ]
    },
    {
      "cell_type": "markdown",
      "metadata": {
        "id": "l0aDwYO57PnU"
      },
      "source": [
        "# -----------------------------\n",
        "# Part D: Experiment and Analysis\n",
        "# -----------------------------\n",
        "\n",
        "1. Run the game where X plays first in the center (position 5).\n",
        "2. Note down the number of states AI explored.\n",
        "3. Compare with:\n",
        "   - 8! = 40,320 (leaf-only sequences)\n",
        "   - 8+8⋅7+8⋅7⋅6+⋯+8! = 109,600 (all partial states)\n",
        "4. Explain why actual count (~55,504) is smaller than 109,600.\n"
      ]
    },
    {
      "cell_type": "markdown",
      "metadata": {
        "id": "8FK7ZBl87bWL"
      },
      "source": [
        "# -----------------------------\n",
        "# Part E: Written Questions\n",
        "# -----------------------------\n",
        "\n",
        "Answer briefly:\n",
        "\n",
        "1. Why does Minimax need to evaluate so many states in Tic Tac Toe?\n",
        "2. Difference between full tree size and actual explored states?\n",
        "3. How do early wins reduce the number of states?\n",
        "4. What challenges would arise if applying Minimax to Chess?\n"
      ]
    },
    {
      "cell_type": "markdown",
      "metadata": {},
      "source": []
    },
    {
      "cell_type": "markdown",
      "metadata": {},
      "source": []
    },
    {
      "cell_type": "markdown",
      "metadata": {},
      "source": []
    },
    {
      "cell_type": "markdown",
      "metadata": {},
      "source": []
    }
  ],
  "metadata": {
    "colab": {
      "authorship_tag": "ABX9TyNi+yMo94DnUzMTNfgyp2QW",
      "include_colab_link": true,
      "provenance": []
    },
    "kernelspec": {
      "display_name": "Python 3",
      "name": "python3"
    },
    "language_info": {
      "codemirror_mode": {
        "name": "ipython",
        "version": 3
      },
      "file_extension": ".py",
      "mimetype": "text/x-python",
      "name": "python",
      "nbconvert_exporter": "python",
      "pygments_lexer": "ipython3",
      "version": "3.12.3"
    }
  },
  "nbformat": 4,
  "nbformat_minor": 0
}
