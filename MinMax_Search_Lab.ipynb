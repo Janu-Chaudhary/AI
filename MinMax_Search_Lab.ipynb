{
  "cells": [
    {
      "cell_type": "markdown",
      "metadata": {
        "colab_type": "text",
        "id": "view-in-github"
      },
      "source": [
        "<a href=\"https://colab.research.google.com/github/aruntakhur/SitareUniversity/blob/main/MinMax_Search_Lab.ipynb\" target=\"_parent\"><img src=\"https://colab.research.google.com/assets/colab-badge.svg\" alt=\"Open In Colab\"/></a>"
      ]
    },
    {
      "cell_type": "markdown",
      "metadata": {
        "id": "Btd5ixFj6Bv5"
      },
      "source": [
        "# Lab Assignment: Tic Tac Toe with Minimax Search\n",
        "\n",
        "## Objective\n",
        "In this lab, you will:\n",
        "- Implement Tic Tac Toe using Python.\n",
        "- Write state functions (`S0`, `Player`, `Actions`, `Result`, `Terminal`, `Utility`).\n",
        "- Implement the **Minimax algorithm**.\n",
        "- Count the number of states evaluated.\n",
        "- Compare theoretical vs actual states explored."
      ]
    },
    {
      "cell_type": "code",
      "execution_count": 1,
      "metadata": {
        "id": "kz7sExzS56jF"
      },
      "outputs": [],
      "source": [
        "# -----------------------------\n",
        "# Part A: State Representation\n",
        "# -----------------------------\n",
        "\n",
        "# Initial state (state): empty 3x3 board\n",
        "S0 = [\" \" for _ in range(9)]\n",
        "\n",
        "\n",
        "def print_board(state):\n",
        "    \"\"\"Print the board in a 3x3 format\"\"\"\n",
        "    print(state[0]+\"|\"+state[1]+\"|\"+state[2])\n",
        "    print(\"-+-+-\")\n",
        "    print(state[3]+\"|\"+state[4]+\"|\"+state[5])\n",
        "    print(\"-+-+-\")\n",
        "    print(state[6]+\"|\"+state[7]+\"|\"+state[8])\n",
        "\n"
      ]
    },
    {
      "cell_type": "code",
      "execution_count": 2,
      "metadata": {
        "id": "fwonz2Ud6Mx0"
      },
      "outputs": [],
      "source": [
        "# -----------------------------\n",
        "# TODO Part A: Implement State Functions\n",
        "# -----------------------------\n",
        "\n",
        "def Player(state):\n",
        "    \"\"\"Return which player has the next turn\"\"\"\n",
        "    # TODO: Implement using counts of X and O\n",
        "    if state.count(\"X\") == 0:\n",
        "        return \"X\"\n",
        "    elif state.count(\"X\") > state.count(\"O\"):\n",
        "        return \"O\"\n",
        "    else:\n",
        "        return \"X\"  \n",
        "\n",
        "\n",
        "def Actions(state):\n",
        "    \"\"\"Return list of legal moves\"\"\"\n",
        "    # TODO: Return all indexes that are still empty\n",
        "    return [i for i, cell in enumerate(state) if cell == \" \"]\n",
        "\n",
        "\n",
        "def Result(state, action):\n",
        "    \"\"\"Return new state after action is taken\"\"\"\n",
        "    # TODO: Copy the state and apply the move\n",
        "    state[action] = Player(state)\n",
        "    return state\n",
        "\n",
        "\n",
        "def Terminal(state):\n",
        "    \"\"\"Return True if the state is terminal (win or draw)\"\"\"\n",
        "    # TODO: Check for win or if no moves left\n",
        "    if state.count(\"X\") + state.count(\"O\") == 9:\n",
        "        return True\n",
        "    if state[0] == state[1] == state[2] == \"X\" or state[3] == state[4] == state[5] == \"X\" or state[6] == state[7] == state[8] == \"X\" or state[0] == state[3] == state[6] == \"X\" or state[1] == state[4] == state[7] == \"X\" or state[2] == state[5] == state[8] == \"X\" or state[0] == state[4] == state[8] == \"X\" or state[2] == state[4] == state[6] == \"X\":\n",
        "        return True\n",
        "    elif state[0] == state[1] == state[2] == \"O\" or state[3] == state[4] == state[5] == \"O\" or state[6] == state[7] == state[8] == \"O\" or state[0] == state[3] == state[6] == \"O\" or state[1] == state[4] == state[7] == \"O\" or state[2] == state[5] == state[8] == \"O\" or state[0] == state[4] == state[8] == \"O\" or state[2] == state[4] == state[6] == \"O\":\n",
        "        return True\n",
        "    else:\n",
        "        return False\n",
        "    \n",
        "\n",
        "\n",
        "def Utility(state):\n",
        "    \"\"\"Return +1 if X wins, -1 if O wins, else 0\"\"\"\n",
        "    # TODO: Implement win/draw logic\n",
        "    if state.count(\"X\") + state.count(\"O\") == 9:\n",
        "        return 0\n",
        "    if state[0] == state[1] == state[2] == \"X\" or state[3] == state[4] == state[5] == \"X\" or state[6] == state[7] == state[8] == \"X\" or state[0] == state[3] == state[6] == \"X\" or state[1] == state[4] == state[7] == \"X\" or state[2] == state[5] == state[8] == \"X\" or state[0] == state[4] == state[8] == \"X\" or state[2] == state[4] == state[6] == \"X\":\n",
        "        return 1\n",
        "    elif state[0] == state[1] == state[2] == \"O\" or state[3] == state[4] == state[5] == \"O\" or state[6] == state[7] == state[8] == \"O\" or state[0] == state[3] == state[6] == \"O\" or state[1] == state[4] == state[7] == \"O\" or state[2] == state[5] == state[8] == \"O\" or state[0] == state[4] == state[8] == \"O\" or state[2] == state[4] == state[6] == \"O\":\n",
        "        return -1\n",
        "    else:\n",
        "        return 0\n"
      ]
    },
    {
      "cell_type": "code",
      "execution_count": 3,
      "metadata": {
        "id": "rnBBSH8o6Rhh"
      },
      "outputs": [],
      "source": [
        "# -----------------------------\n",
        "# Part B: Minimax Implementation\n",
        "# -----------------------------\n",
        "\n",
        "\n",
        "def MAX_VALUE(state):\n",
        "\n",
        "    if Terminal(state):\n",
        "        return Utility(state)\n",
        "        # return float(\"-inf\")\n",
        "\n",
        "    v = float(\"-inf\")\n",
        "    for action in Actions(state):\n",
        "        print(state,Player(state),action)\n",
        "        v = max(v, MIN_VALUE(Result(state, action)))\n",
        "    return v\n",
        "\n",
        "\n",
        "def MIN_VALUE(state):\n",
        "\n",
        "    if Terminal(state):\n",
        "        return Utility(state)\n",
        "        # return float(\"inf\")\n",
        "\n",
        "    v = float(\"inf\")\n",
        "    for action in Actions(state):\n",
        "        print(state,Player(state),action)\n",
        "        v = min(v, MAX_VALUE(Result(state, action)))\n",
        "    return v\n",
        "\n",
        "\n",
        "def minimax_decision(state):\n",
        "    \"\"\"Return best move for current player\"\"\"\n",
        "    global call_count\n",
        "    call_count = 0\n",
        "\n",
        "    player = Player(state)\n",
        "    best_move = None\n",
        "\n",
        "    if player == \"X\":\n",
        "        best_val = float(\"-inf\")\n",
        "        for action in Actions(state):\n",
        "            val = MIN_VALUE(Result(state, action))\n",
        "            if val > best_val:\n",
        "                best_val = val\n",
        "                best_move = action\n",
        "    else:\n",
        "        best_val = float(\"inf\")\n",
        "        for action in Actions(state):\n",
        "            val = MAX_VALUE(Result(state, action))\n",
        "            if val < best_val:\n",
        "                best_val = val\n",
        "                best_move = action\n",
        "\n",
        "    return best_move\n"
      ]
    },
    {
      "cell_type": "code",
      "execution_count": 4,
      "metadata": {
        "id": "MzX_7U456h-E"
      },
      "outputs": [],
      "source": [
        "# -----------------------------\n",
        "# Part C: Human vs AI Game\n",
        "# -----------------------------\n",
        "\n",
        "# Add Code to detect invalid move also\n",
        "\n",
        "def play():\n",
        "    state = S0.copy()\n",
        "\n",
        "    while not Terminal(state):\n",
        "        print_board(state)\n",
        "        if Player(state) == \"X\":  # Human move\n",
        "            move = int(input(\"Enter your move (1-9): \")) - 1\n",
        "\n",
        "        else:  # AI move\n",
        "            print(\"AI is thinking...\")\n",
        "            move = minimax_decision(state)\n",
        "\n",
        "        state = Result(state, move)\n",
        "\n",
        "    print_board(state)\n",
        "    if Utility(state) == 1:\n",
        "        print(\"X wins!\")\n",
        "    elif Utility(state) == -1:\n",
        "        print(\"O wins!\")\n",
        "    else:\n",
        "        print(\"It's a draw!\")\n"
      ]
    },
    {
      "cell_type": "code",
      "execution_count": 5,
      "metadata": {},
      "outputs": [
        {
          "name": "stdout",
          "output_type": "stream",
          "text": [
            " | | \n",
            "-+-+-\n",
            " | | \n",
            "-+-+-\n",
            " | | \n",
            " | | \n",
            "-+-+-\n",
            " |X| \n",
            "-+-+-\n",
            " | | \n",
            "AI is thinking...\n",
            "['O', ' ', ' ', ' ', 'X', ' ', ' ', ' ', ' '] X 1\n",
            "['O', 'X', ' ', ' ', 'X', ' ', ' ', ' ', ' '] O 2\n",
            "['O', 'X', 'O', ' ', 'X', ' ', ' ', ' ', ' '] X 3\n",
            "['O', 'X', 'O', 'X', 'X', ' ', ' ', ' ', ' '] O 5\n",
            "['O', 'X', 'O', 'X', 'X', 'O', ' ', ' ', ' '] X 6\n",
            "['O', 'X', 'O', 'X', 'X', 'O', 'X', ' ', ' '] O 7\n",
            "['O', 'X', 'O', 'X', 'X', 'O', 'X', 'O', ' '] X 8\n",
            "['O', 'X', 'O', 'X', 'X', 'O', 'X', 'O', 'X'] O 8\n",
            "['O', 'X', 'O', 'X', 'X', 'O', 'X', 'O', 'O'] X 7\n",
            "['O', 'X', 'O', 'X', 'X', 'O', 'X', 'X', 'O'] O 8\n",
            "['O', 'X', 'O', 'X', 'X', 'O', 'X', 'X', 'O'] O 6\n",
            "['O', 'X', 'O', 'X', 'X', 'O', 'O', 'X', 'O'] X 7\n",
            "['O', 'X', 'O', 'X', 'X', 'O', 'O', 'X', 'O'] X 8\n",
            "['O', 'X', 'O', 'X', 'X', 'O', 'O', 'X', 'X'] O 5\n",
            "['O', 'X', 'O', 'X', 'X', 'O', 'O', 'X', 'X'] O 6\n",
            "['O', 'X', 'O', 'X', 'X', 'O', 'O', 'X', 'X'] O 7\n",
            "['O', 'X', 'O', 'X', 'X', 'O', 'O', 'O', 'X'] X 8\n",
            "['O', 'X', 'O', 'X', 'X', 'O', 'O', 'O', 'X'] X 3\n",
            "['O', 'X', 'O', 'X', 'X', 'O', 'O', 'O', 'X'] X 5\n",
            "['O', 'X', 'O', 'X', 'X', 'X', 'O', 'O', 'X'] O 6\n",
            "['O', 'X', 'O', 'X', 'X', 'X', 'O', 'O', 'X'] O 7\n",
            "['O', 'X', 'O', 'X', 'X', 'X', 'O', 'O', 'X'] O 8\n",
            "['O', 'X', 'O', 'X', 'X', 'X', 'O', 'O', 'O'] X 2\n",
            "['O', 'X', 'X', 'X', 'X', 'X', 'O', 'O', 'O'] O 3\n",
            "['O', 'X', 'X', 'O', 'X', 'X', 'O', 'O', 'O'] X 5\n",
            "['O', 'X', 'X', 'O', 'X', 'X', 'O', 'O', 'O'] X 6\n",
            "['O', 'X', 'X', 'O', 'X', 'X', 'X', 'O', 'O'] O 7\n",
            "['O', 'X', 'X', 'O', 'X', 'X', 'X', 'O', 'O'] O 8\n",
            "O|O|X\n",
            "-+-+-\n",
            "X|X|O\n",
            "-+-+-\n",
            "X|X|O\n",
            "It's a draw!\n"
          ]
        }
      ],
      "source": [
        "play()"
      ]
    },
    {
      "cell_type": "markdown",
      "metadata": {
        "id": "l0aDwYO57PnU"
      },
      "source": [
        "# -----------------------------\n",
        "# Part D: Experiment and Analysis\n",
        "# -----------------------------\n",
        "\n",
        "1. Run the game where X plays first in the center (position 5).\n",
        "2. Note down the number of states AI explored.\n",
        "3. Compare with:\n",
        "   - 8! = 40,320 (leaf-only sequences)\n",
        "   - 8+8⋅7+8⋅7⋅6+⋯+8! = 109,600 (all partial states)\n",
        "4. Explain why actual count (~55,504) is smaller than 109,600.\n"
      ]
    },
    {
      "cell_type": "markdown",
      "metadata": {
        "id": "8FK7ZBl87bWL"
      },
      "source": [
        "# -----------------------------\n",
        "# Part E: Written Questions\n",
        "# -----------------------------\n",
        "\n",
        "Answer briefly:\n",
        "\n",
        "1. Why does Minimax need to evaluate so many states in Tic Tac Toe?\n",
        "2. Difference between full tree size and actual explored states?\n",
        "3. How do early wins reduce the number of states?\n",
        "4. What challenges would arise if applying Minimax to Chess?\n"
      ]
    }
  ],
  "metadata": {
    "colab": {
      "authorship_tag": "ABX9TyNi+yMo94DnUzMTNfgyp2QW",
      "include_colab_link": true,
      "provenance": []
    },
    "kernelspec": {
      "display_name": "Python 3",
      "name": "python3"
    },
    "language_info": {
      "codemirror_mode": {
        "name": "ipython",
        "version": 3
      },
      "file_extension": ".py",
      "mimetype": "text/x-python",
      "name": "python",
      "nbconvert_exporter": "python",
      "pygments_lexer": "ipython3",
      "version": "3.12.3"
    }
  },
  "nbformat": 4,
  "nbformat_minor": 0
}
