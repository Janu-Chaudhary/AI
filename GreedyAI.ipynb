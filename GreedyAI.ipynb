{
  "cells": [
    {
      "cell_type": "markdown",
      "metadata": {
        "colab_type": "text",
        "id": "view-in-github"
      },
      "source": [
        "<a href=\"https://colab.research.google.com/github/aruntakhur/SitareUniversity/blob/main/GreedyBFS_AI_2025.ipynb\" target=\"_parent\"><img src=\"https://colab.research.google.com/assets/colab-badge.svg\" alt=\"Open In Colab\"/></a>"
      ]
    },
    {
      "cell_type": "code",
      "execution_count": 1,
      "metadata": {
        "id": "aY547roWSrJO"
      },
      "outputs": [],
      "source": [
        "maze5 = [\n",
        "    ['A', 0,  1,  0,  0,  0, 1, 0, 0, 1, 0, 0],\n",
        "    [0,   0,  1,  0,  1,  0, 1, 0, 1, 0, 0, 0],\n",
        "    [1,   0,  0,  0,  1,  0, 0, 0, 1, 1, 1, 0],\n",
        "    [0,   1,  1,  0,  0,  1, 1, 0, 0, 0, 1, 0],\n",
        "    [0,   0,  0,  0,  1,  0, 1, 1, 1, 0, 0, 0],\n",
        "    [1,   1,  1,  0,  1,  0, 0, 0, 1, 1, 1, 0],\n",
        "    [0,   0,  1,  0,  0,  0, 1, 0, 0, 0, 1, 0],\n",
        "    [0,   1,  0,  1,  1,  0, 1, 1, 1, 0, 1, 0],\n",
        "    [0,   0,  0,  0,  0,  0, 0, 0, 1, 0, 0, 0],\n",
        "    [1,   1,  1,  1,  1,  1, 0, 1, 0, 1, 1, 0],\n",
        "    [0,   0,  0,  0,  0,  0, 0, 1, 0, 0, 0, 0],\n",
        "    [0,   1,  1,  1,  1,  1, 1, 1, 1, 1, 1,'B'],\n",
        "]"
      ]
    },
    {
      "cell_type": "code",
      "execution_count": 2,
      "metadata": {
        "id": "iF0ylpHBLP9e"
      },
      "outputs": [],
      "source": [
        "import heapq\n",
        "\n",
        "# Define Manhattan distance heuristic\n",
        "def manhattan(a, b):\n",
        "    return abs(a[0] - b[0]) + abs(a[1] - b[1])"
      ]
    },
    {
      "cell_type": "code",
      "execution_count": 3,
      "metadata": {
        "id": "egOgH6qoLY0w"
      },
      "outputs": [],
      "source": [
        "# Get neighbors in 4 directions\n",
        "def get_neighbors(pos, maze):\n",
        "    neighbors = []\n",
        "    directions = [(-1,0), (1,0), (0,-1), (0,1)]  # up, down, left, right\n",
        "    rows, cols = len(maze), len(maze[0])\n",
        "    for dx, dy in directions:\n",
        "        nx, ny = pos[0] + dx, pos[1] + dy\n",
        "        if 0 <= nx < rows and 0 <= ny < cols and maze[nx][ny] != 1:\n",
        "            neighbors.append((nx, ny))\n",
        "    return neighbors"
      ]
    },
    {
      "cell_type": "markdown",
      "metadata": {
        "id": "w7Zr2NRPWT9N"
      },
      "source": [
        "# Processed Maze to replace A nd B with 0"
      ]
    },
    {
      "cell_type": "code",
      "execution_count": 4,
      "metadata": {
        "id": "Twnl-XSXWRHg"
      },
      "outputs": [],
      "source": [
        "def processed_maze(maze):\n",
        "\n",
        "    # Convert maze to numeric values for processing\n",
        "    processed_maze = []\n",
        "    for row in maze:\n",
        "        new_row = []\n",
        "        for cell in row:\n",
        "            if cell == 'A':\n",
        "                start = (maze.index(row), row.index(cell))\n",
        "                new_row.append(0)\n",
        "            elif cell == 'B':\n",
        "                goal = (maze.index(row), row.index(cell))\n",
        "                new_row.append(0)\n",
        "            else:\n",
        "                new_row.append(cell)\n",
        "        processed_maze.append(new_row)\n",
        "    return processed_maze, start, goal"
      ]
    },
    {
      "cell_type": "code",
      "execution_count": 11,
      "metadata": {
        "id": "My4eFHDFLcuq"
      },
      "outputs": [],
      "source": [
        "# Greedy Best-First Search\n",
        "\n",
        "def greedy_bfs(maze):\n",
        "\n",
        "    proc_maze, start, goal = processed_maze(maze)\n",
        "\n",
        "    visited = set()\n",
        "    came_from = {}\n",
        "\n",
        "    heap = []\n",
        "    heapq.heappush(heap, (manhattan(start, goal), start))\n",
        "\n",
        "    while heap:\n",
        "        _, current = heapq.heappop(heap)\n",
        "\n",
        "        if current == goal:\n",
        "            break\n",
        "\n",
        "        if current in visited:\n",
        "            continue\n",
        "        visited.add(current)\n",
        "\n",
        "        for neighbor in get_neighbors(current, maze):\n",
        "            if neighbor not in visited:\n",
        "                heapq.heappush(heap, (manhattan(neighbor, goal), neighbor))\n",
        "                if neighbor not in came_from:\n",
        "                    came_from[neighbor] = current\n",
        "\n",
        "    # Reconstruct path\n",
        "    path = []\n",
        "    curr = goal\n",
        "    while curr != start:\n",
        "        path.append(curr)\n",
        "        curr = came_from.get(curr)\n",
        "        if curr is None:\n",
        "            print(\"No path found.\")\n",
        "            return []\n",
        "    path.append(start)\n",
        "    path.reverse()\n",
        "    return path"
      ]
    },
    {
      "cell_type": "code",
      "execution_count": 12,
      "metadata": {
        "colab": {
          "base_uri": "https://localhost:8080/"
        },
        "id": "nGI0yUfcNTN2",
        "outputId": "dc9be4ec-8116-4198-d49c-7420c3059fdf"
      },
      "outputs": [
        {
          "name": "stdout",
          "output_type": "stream",
          "text": [
            "Path from A to B:\n",
            "[(0, 0), (0, 1), (1, 1), (2, 1), (2, 2), (2, 3), (3, 3), (4, 3), (5, 3), (6, 3), (6, 4), (6, 5), (5, 5), (5, 6), (5, 7), (6, 7), (6, 8), (6, 9), (7, 9), (8, 9), (8, 10), (8, 11), (9, 11), (10, 11), (11, 11)]\n"
          ]
        }
      ],
      "source": [
        "path = greedy_bfs(maze5)\n",
        "\n",
        "# Print path\n",
        "print(\"Path from A to B:\")\n",
        "print(path)\n"
      ]
    },
    {
      "cell_type": "code",
      "execution_count": 13,
      "metadata": {
        "id": "t5PGxPiuNVsC"
      },
      "outputs": [
        {
          "name": "stdout",
          "output_type": "stream",
          "text": [
            "A * 1 0 0 0 1 0 0 1 0 0\n",
            "0 * 1 0 1 0 1 0 1 0 0 0\n",
            "1 * * * 1 0 0 0 1 1 1 0\n",
            "0 1 1 * 0 1 1 0 0 0 1 0\n",
            "0 0 0 * 1 0 1 1 1 0 0 0\n",
            "1 1 1 * 1 * * * 1 1 1 0\n",
            "0 0 1 * * * 1 * * * 1 0\n",
            "0 1 0 1 1 0 1 1 1 * 1 0\n",
            "0 0 0 0 0 0 0 0 1 * * *\n",
            "1 1 1 1 1 1 0 1 0 1 1 *\n",
            "0 0 0 0 0 0 0 1 0 0 0 *\n",
            "0 1 1 1 1 1 1 1 1 1 1 B\n"
          ]
        }
      ],
      "source": [
        "def visualize_path(path, maze):\n",
        "    for (x, y) in path:\n",
        "        if maze[x][y] not in ('A', 'B'):\n",
        "            maze[x][y] = '*'\n",
        "\n",
        "\n",
        "    for row in maze:\n",
        "        print(' '.join(str(cell) for cell in row))\n",
        "\n",
        "visualize_path(path, maze5)\n"
      ]
    },
    {
      "cell_type": "code",
      "execution_count": 8,
      "metadata": {
        "colab": {
          "base_uri": "https://localhost:8080/"
        },
        "id": "AYepKXZaVDCO",
        "outputId": "43c47ca1-91bd-49a5-b3ca-1d257cd268cd"
      },
      "outputs": [
        {
          "data": {
            "text/plain": [
              "[['A', 0, 1, 0, 0, 0, 1, 0, 0, 1, 0, 0],\n",
              " [0, 0, 1, 0, 1, 0, 1, 0, 1, 0, 0, 0],\n",
              " [1, 0, 0, 0, 1, 0, 0, 0, 1, 1, 1, 0],\n",
              " [0, 1, 1, 0, 0, 1, 1, 0, 0, 0, 1, 0],\n",
              " [0, 0, 0, 0, 1, 0, 1, 1, 1, 0, 0, 0],\n",
              " [1, 1, 1, 0, 1, 0, 0, 0, 1, 1, 1, 0],\n",
              " [0, 0, 1, 0, 0, 0, 1, 0, 0, 0, 1, 0],\n",
              " [0, 1, 0, 1, 1, 0, 1, 1, 1, 0, 1, 0],\n",
              " [0, 0, 0, 0, 0, 0, 0, 0, 1, 0, 0, 0],\n",
              " [1, 1, 1, 1, 1, 1, 0, 1, 0, 1, 1, 0],\n",
              " [0, 0, 0, 0, 0, 0, 0, 1, 0, 0, 0, 0],\n",
              " [0, 1, 1, 1, 1, 1, 1, 1, 1, 1, 1, 'B']]"
            ]
          },
          "execution_count": 8,
          "metadata": {},
          "output_type": "execute_result"
        }
      ],
      "source": [
        "maze5"
      ]
    },
    {
      "cell_type": "code",
      "execution_count": 9,
      "metadata": {
        "colab": {
          "base_uri": "https://localhost:8080/",
          "height": 144
        },
        "id": "a2VqcArzXSK1",
        "outputId": "91aadfd1-9f23-44e9-9b61-353f5b32a5f9"
      },
      "outputs": [
        {
          "ename": "NameError",
          "evalue": "name 'start' is not defined",
          "output_type": "error",
          "traceback": [
            "\u001b[0;31m---------------------------------------------------------------------------\u001b[0m",
            "\u001b[0;31mNameError\u001b[0m                                 Traceback (most recent call last)",
            "Cell \u001b[0;32mIn[9], line 1\u001b[0m\n\u001b[0;32m----> 1\u001b[0m \u001b[43mvisualize_path\u001b[49m\u001b[43m(\u001b[49m\u001b[43mpath\u001b[49m\u001b[43m,\u001b[49m\u001b[43m \u001b[49m\u001b[43mmaze5\u001b[49m\u001b[43m)\u001b[49m\n",
            "Cell \u001b[0;32mIn[7], line 3\u001b[0m, in \u001b[0;36mvisualize_path\u001b[0;34m(path, maze)\u001b[0m\n\u001b[1;32m      1\u001b[0m \u001b[38;5;28;01mdef\u001b[39;00m \u001b[38;5;21mvisualize_path\u001b[39m(path, maze):\n\u001b[1;32m      2\u001b[0m     \u001b[38;5;28;01mfor\u001b[39;00m r, c \u001b[38;5;129;01min\u001b[39;00m path:\n\u001b[0;32m----> 3\u001b[0m         \u001b[38;5;28;01mif\u001b[39;00m (r, c) \u001b[38;5;241m!=\u001b[39m \u001b[43mstart\u001b[49m \u001b[38;5;129;01mand\u001b[39;00m (r, c) \u001b[38;5;241m!=\u001b[39m goal:\n\u001b[1;32m      4\u001b[0m             maze[r][c] \u001b[38;5;241m=\u001b[39m \u001b[38;5;124m'\u001b[39m\u001b[38;5;124m*\u001b[39m\u001b[38;5;124m'\u001b[39m\n\u001b[1;32m      6\u001b[0m     \u001b[38;5;28;01mfor\u001b[39;00m row \u001b[38;5;129;01min\u001b[39;00m maze:\n",
            "\u001b[0;31mNameError\u001b[0m: name 'start' is not defined"
          ]
        }
      ],
      "source": [
        "visualize_path(path, maze5)"
      ]
    },
    {
      "cell_type": "markdown",
      "metadata": {
        "id": "I3JxjF86Q4nP"
      },
      "source": [
        "# Visualizing the manhattan distance in the maze\n"
      ]
    },
    {
      "cell_type": "code",
      "execution_count": 10,
      "metadata": {},
      "outputs": [
        {
          "data": {
            "text/plain": [
              "[['A', 0, 1, 0, 0, 0, 1, 0, 0, 1, 0, 0],\n",
              " [0, 0, 1, 0, 1, 0, 1, 0, 1, 0, 0, 0],\n",
              " [1, 0, 0, 0, 1, 0, 0, 0, 1, 1, 1, 0],\n",
              " [0, 1, 1, 0, 0, 1, 1, 0, 0, 0, 1, 0],\n",
              " [0, 0, 0, 0, 1, 0, 1, 1, 1, 0, 0, 0],\n",
              " [1, 1, 1, 0, 1, 0, 0, 0, 1, 1, 1, 0],\n",
              " [0, 0, 1, 0, 0, 0, 1, 0, 0, 0, 1, 0],\n",
              " [0, 1, 0, 1, 1, 0, 1, 1, 1, 0, 1, 0],\n",
              " [0, 0, 0, 0, 0, 0, 0, 0, 1, 0, 0, 0],\n",
              " [1, 1, 1, 1, 1, 1, 0, 1, 0, 1, 1, 0],\n",
              " [0, 0, 0, 0, 0, 0, 0, 1, 0, 0, 0, 0],\n",
              " [0, 1, 1, 1, 1, 1, 1, 1, 1, 1, 1, 'B']]"
            ]
          },
          "execution_count": 10,
          "metadata": {},
          "output_type": "execute_result"
        }
      ],
      "source": [
        "maze5\n"
      ]
    },
    {
      "cell_type": "code",
      "execution_count": 7,
      "metadata": {
        "id": "5R_16xekQAZ7"
      },
      "outputs": [],
      "source": [
        "def manhattan(p1, p2):\n",
        "    return abs(p1[0] - p2[0]) + abs(p1[1] - p2[1])\n",
        "\n",
        "# Find start (A) and goal (B)\n",
        "def find_positions(maze):\n",
        "    start = goal = None\n",
        "    for i in range(len(maze)):\n",
        "        for j in range(len(maze[0])):\n",
        "            if maze[i][j] == 'A':\n",
        "                start = (i, j)\n",
        "            elif maze[i][j] == 'B':\n",
        "                goal = (i, j)\n",
        "    return start, goal\n",
        "\n",
        "def visualize_manhattan(maze):\n",
        "    start, goal = find_positions(maze)\n",
        "    rows, cols = len(maze), len(maze[0])\n",
        "\n",
        "    dist_matrix = []\n",
        "    for i in range(rows):\n",
        "        row = []\n",
        "        for j in range(cols):\n",
        "            if maze[i][j] == 1:   # Wall\n",
        "                row.append(\"█\")\n",
        "            elif maze[i][j] == 'A':\n",
        "                row.append('A')\n",
        "            elif maze[i][j] == 'B':\n",
        "                row.append('B')\n",
        "            else:\n",
        "                row.append(manhattan((i, j), goal))\n",
        "        dist_matrix.append(row)\n",
        "\n",
        "    return dist_matrix"
      ]
    },
    {
      "cell_type": "code",
      "execution_count": 8,
      "metadata": {
        "colab": {
          "base_uri": "https://localhost:8080/"
        },
        "id": "xipZmZ2URGQs",
        "outputId": "e3adef7d-94bf-4ada-829d-d816c2458c5b"
      },
      "outputs": [
        {
          "data": {
            "text/plain": [
              "[['A', 21, '█', 19, 18, 17, '█', 15, 14, '█', 12, 11],\n",
              " [21, 20, '█', 18, '█', 16, '█', 14, '█', 12, 11, 10],\n",
              " ['█', 19, 18, 17, '█', 15, 14, 13, '█', '█', '█', 9],\n",
              " [19, '█', '█', 16, 15, '█', '█', 12, 11, 10, '█', 8],\n",
              " [18, 17, 16, 15, '█', 13, '█', '█', '█', 9, 8, 7],\n",
              " ['█', '█', '█', 14, '█', 12, 11, 10, '█', '█', '█', 6],\n",
              " [16, 15, '█', 13, 12, 11, '█', 9, 8, 7, '█', 5],\n",
              " [15, '█', 13, '█', '█', 10, '█', '█', '█', 6, '█', 4],\n",
              " [14, 13, 12, 11, 10, 9, 8, 7, '█', 5, 4, 3],\n",
              " ['█', '█', '█', '█', '█', '█', 7, '█', 5, '█', '█', 2],\n",
              " [12, 11, 10, 9, 8, 7, 6, '█', 4, 3, 2, 1],\n",
              " [11, '█', '█', '█', '█', '█', '█', '█', '█', '█', '█', 'B']]"
            ]
          },
          "execution_count": 8,
          "metadata": {},
          "output_type": "execute_result"
        }
      ],
      "source": [
        "visualize_manhattan(maze5)"
      ]
    },
    {
      "cell_type": "code",
      "execution_count": 9,
      "metadata": {
        "id": "s6CVzMIFRu0B"
      },
      "outputs": [],
      "source": [
        "# Pretty print function\n",
        "def print_matrix(matrix):\n",
        "    for row in matrix:\n",
        "        row_str = \"\"\n",
        "        for val in row:\n",
        "            if val == \"█\":\n",
        "                row_str += \" █ \"   # Wall\n",
        "            elif val == 'A' or val == 'B':\n",
        "                row_str += f\" {val} \"\n",
        "            else:\n",
        "                row_str += f\"{val:2d} \"  # Align numbers\n",
        "        print(row_str)\n",
        "    print()  # Extra space after the grid"
      ]
    },
    {
      "cell_type": "code",
      "execution_count": 10,
      "metadata": {
        "colab": {
          "base_uri": "https://localhost:8080/"
        },
        "id": "Tx0pjCkGRwe9",
        "outputId": "75563bbf-4a42-468a-edcb-c1551c31611a"
      },
      "outputs": [
        {
          "name": "stdout",
          "output_type": "stream",
          "text": [
            " A 21  █ 19 18 17  █ 15 14  █ 12 11 \n",
            "21 20  █ 18  █ 16  █ 14  █ 12 11 10 \n",
            " █ 19 18 17  █ 15 14 13  █  █  █  9 \n",
            "19  █  █ 16 15  █  █ 12 11 10  █  8 \n",
            "18 17 16 15  █ 13  █  █  █  9  8  7 \n",
            " █  █  █ 14  █ 12 11 10  █  █  █  6 \n",
            "16 15  █ 13 12 11  █  9  8  7  █  5 \n",
            "15  █ 13  █  █ 10  █  █  █  6  █  4 \n",
            "14 13 12 11 10  9  8  7  █  5  4  3 \n",
            " █  █  █  █  █  █  7  █  5  █  █  2 \n",
            "12 11 10  9  8  7  6  █  4  3  2  1 \n",
            "11  █  █  █  █  █  █  █  █  █  █  B \n",
            "\n"
          ]
        }
      ],
      "source": [
        "print_matrix(visualize_manhattan(maze5))"
      ]
    },
    {
      "cell_type": "markdown",
      "metadata": {
        "id": "McQ6LgIeSawX"
      },
      "source": [
        "# Examples of different mazes\n"
      ]
    },
    {
      "cell_type": "code",
      "execution_count": 15,
      "metadata": {
        "id": "bQmPpMNmSaFC"
      },
      "outputs": [],
      "source": [
        "maze5 = [\n",
        "    ['A', 0,  1,  0,  0,  0, 1, 0, 0, 1, 0, 0],\n",
        "    [0,   0,  1,  0,  1,  0, 1, 0, 1, 0, 0, 0],\n",
        "    [1,   0,  0,  0,  1,  0, 0, 0, 1, 1, 1, 0],\n",
        "    [0,   1,  1,  0,  0,  1, 1, 0, 0, 0, 1, 0],\n",
        "    [0,   0,  0,  0,  1,  0, 1, 1, 1, 0, 0, 0],\n",
        "    [1,   1,  1,  0,  1,  0, 0, 0, 1, 1, 1, 0],\n",
        "    [0,   0,  1,  0,  0,  0, 1, 0, 0, 0, 1, 0],\n",
        "    [0,   1,  0,  1,  1,  0, 1, 1, 1, 0, 1, 0],\n",
        "    [0,   0,  0,  0,  0,  0, 0, 0, 1, 0, 0, 0],\n",
        "    [1,   1,  1,  1,  1,  1, 0, 1, 0, 1, 1, 0],\n",
        "    [0,   0,  0,  0,  0,  0, 0, 1, 0, 0, 0, 0],\n",
        "    [0,   1,  1,  1,  1,  1, 1, 1, 1, 1, 1,'B'],\n",
        "]"
      ]
    },
    {
      "cell_type": "code",
      "execution_count": 16,
      "metadata": {
        "id": "Q4BAKiKTSkcz"
      },
      "outputs": [],
      "source": [
        "maze4 = [\n",
        "    ['A', 0,  1,  0,  0,  0, 1, 0, 0, 0],\n",
        "    [0,   0,  1,  0,  1,  0, 1, 0, 1, 0],\n",
        "    [1,   0,  0,  0,  1,  0, 0, 0, 1, 0],\n",
        "    [0,   1,  1,  0,  0,  1, 1, 0, 0, 0],\n",
        "    [0,   0,  0,  0,  1,  0, 1, 1, 1, 0],\n",
        "    [1,   1,  1,  0,  1,  0, 0, 0, 1, 0],\n",
        "    [0,   0,  1,  0,  0,  0, 1, 0, 0, 0],\n",
        "    [0,   1,  0,  1,  1,  0, 1, 1, 1, 0],\n",
        "    [0,   0,  0,  0,  0,  0, 0, 0, 1, 0],\n",
        "    [1,   1,  1,  1,  1,  1, 0, 1, 0,'B'],\n",
        "]"
      ]
    },
    {
      "cell_type": "code",
      "execution_count": null,
      "metadata": {
        "id": "DX6CdpGMSoWN"
      },
      "outputs": [],
      "source": [
        "maze3 = [\n",
        "    ['A', 0,  1,  0, 0, 0, 0, 0],\n",
        "    [0,   0,  1,  0, 1, 1, 1, 0],\n",
        "    [0,   1,  1,  0, 0, 0, 1, 0],\n",
        "    [0,   0,  0,  0, 1, 0, 1, 0],\n",
        "    [1,   1,  1,  0, 1, 0, 0, 0],\n",
        "    [0,   0,  0,  0, 0, 1, 1, 0],\n",
        "    [0,   1,  1,  1, 0, 0, 0, 0],\n",
        "    [0,   0,  0,  0, 0, 1, 1,'B'],\n",
        "]"
      ]
    },
    {
      "cell_type": "code",
      "execution_count": 18,
      "metadata": {
        "id": "zdI7tCCjSqii"
      },
      "outputs": [],
      "source": [
        "maze2 = [\n",
        "    ['A', 0,   1,  0, 0, 0],\n",
        "    [1,   0,   1,  0, 1, 0],\n",
        "    [0,   0,   0,  0, 1, 0],\n",
        "    [0,   1,   1,  1, 1, 0],\n",
        "    [0,   0,   0,  0, 0, 0],\n",
        "    [0,   1,   1,  1, 1,'B'],\n",
        "]"
      ]
    },
    {
      "cell_type": "code",
      "execution_count": 19,
      "metadata": {
        "id": "xF5OWgA1SuG3"
      },
      "outputs": [],
      "source": [
        "maze1 = [\n",
        "    ['A', 0, 0, 0, 'B'],\n",
        "    [1,   1, 1, 1,  0],\n",
        "    [0,   0, 0, 0,  0],\n",
        "    [0,   1, 1, 1,  0],\n",
        "    [0,   0, 0, 0,  0],\n",
        "]"
      ]
    },
    {
      "cell_type": "markdown",
      "metadata": {
        "id": "yLt79OkwXW0O"
      },
      "source": [
        "# OOps"
      ]
    },
    {
      "cell_type": "code",
      "execution_count": 6,
      "metadata": {},
      "outputs": [],
      "source": [
        "import heapq"
      ]
    },
    {
      "cell_type": "code",
      "execution_count": 21,
      "metadata": {},
      "outputs": [
        {
          "name": "stdout",
          "output_type": "stream",
          "text": [
            " A 13 █11 10 9 8 7 \n",
            "13 12 █10 ███6 \n",
            "12 ██9 8 7 █5 \n",
            "11 10 9 8 █6 █4 \n",
            "███7 █5 4 3 \n",
            "9 8 7 6 5 ██2 \n",
            "8 ███4 3 2 1 \n",
            "7 6 5 4 3 ██ B \n",
            "\n",
            " A 13 █11 10 9 8 7 \n",
            "* 12 █10 ███6 \n",
            "* ██9 8 7 █5 \n",
            "* * * * █6 █4 \n",
            "███* █5 4 3 \n",
            "9 8 7 * * ██2 \n",
            "8 ███* * * * \n",
            "7 6 5 4 3 ██ B \n",
            "\n"
          ]
        }
      ],
      "source": [
        "class MazeSolver:\n",
        "    def __init__(self, maze):\n",
        "        self.maze = maze\n",
        "        self.manhattanMaze = self.visualize_manhattan(self.maze)\n",
        "        self.print_matrix(self.manhattanMaze)\n",
        "        self.path = self.greedy_bfs(self.maze)\n",
        "        self.updated_manhattan(self.path)\n",
        "        self.print_matrix(self.manhattanMaze)\n",
        "\n",
        "\n",
        "    def manhattan(self,a, b):\n",
        "        return abs(a[0] - b[0]) + abs(a[1] - b[1])\n",
        "    \n",
        "    # Get neighbors in 4 directions\n",
        "    def get_neighbors(self,pos, maze):\n",
        "        neighbors = []\n",
        "        directions = [(-1,0), (1,0), (0,-1), (0,1)]  # up, down, left, right\n",
        "        rows, cols = len(maze), len(maze[0])\n",
        "        for dx, dy in directions:\n",
        "            nx, ny = pos[0] + dx, pos[1] + dy\n",
        "            if 0 <= nx < rows and 0 <= ny < cols and maze[nx][ny] != 1:\n",
        "                neighbors.append((nx, ny))\n",
        "        return neighbors\n",
        "    \n",
        "    def processed_maze(self,maze):\n",
        "        processed_maze = []\n",
        "        for row in maze:\n",
        "            new_row = []\n",
        "            for cell in row:\n",
        "                if cell == 'A':\n",
        "                    start = (maze.index(row), row.index(cell))\n",
        "                    new_row.append(0)\n",
        "                elif cell == 'B':\n",
        "                    goal = (maze.index(row), row.index(cell))\n",
        "                    new_row.append(0)\n",
        "                else:\n",
        "                    new_row.append(cell)\n",
        "            processed_maze.append(new_row)\n",
        "        return processed_maze, start, goal\n",
        "    \n",
        "\n",
        "# Greedy Best-First Search\n",
        "    def greedy_bfs(self,maze):\n",
        "\n",
        "        proc_maze, start, goal = self.processed_maze(maze)\n",
        "\n",
        "        visited = set()\n",
        "        came_from = {}\n",
        "\n",
        "        heap = []\n",
        "        heapq.heappush(heap, (self.manhattan(start, goal), start))\n",
        "\n",
        "        while heap:\n",
        "            _, current = heapq.heappop(heap)\n",
        "\n",
        "            if current == goal:\n",
        "                break\n",
        "\n",
        "            if current in visited:\n",
        "                continue\n",
        "            visited.add(current)\n",
        "\n",
        "            for neighbor in self.get_neighbors(current, maze):\n",
        "                if neighbor not in visited:\n",
        "                    heapq.heappush(heap, (self.manhattan(neighbor, goal), neighbor))\n",
        "                    if neighbor not in came_from:\n",
        "                        came_from[neighbor] = current\n",
        "\n",
        "        # Reconstruct path\n",
        "        path = []\n",
        "        curr = goal\n",
        "        while curr != start:\n",
        "            path.append(curr)\n",
        "            curr = came_from.get(curr)\n",
        "            if curr is None:\n",
        "                print(\"No path found.\")\n",
        "                return []\n",
        "        path.append(start)\n",
        "        path.reverse()\n",
        "        return path\n",
        "    \n",
        "    def find_positions(self,maze):\n",
        "        start = goal = None\n",
        "        for i in range(len(maze)):\n",
        "            for j in range(len(maze[0])):\n",
        "                if maze[i][j] == 'A':\n",
        "                    start = (i, j)\n",
        "                elif maze[i][j] == 'B':\n",
        "                    goal = (i, j)\n",
        "        return start, goal\n",
        "    \n",
        "    def visualize_manhattan(self,maze):\n",
        "        start, goal = self.find_positions(maze)\n",
        "        rows, cols = len(maze), len(maze[0])\n",
        "\n",
        "        dist_matrix = []\n",
        "        for i in range(rows):\n",
        "            row = []\n",
        "            for j in range(cols):\n",
        "                if maze[i][j] == \"*\":\n",
        "                    row.append(\"*\")   # Open path\n",
        "                elif maze[i][j] == 1:   # Wall\n",
        "                    row.append(\"█\")\n",
        "                elif maze[i][j] == 'A':\n",
        "                    row.append('A')\n",
        "                elif maze[i][j] == 'B':\n",
        "                    row.append('B')\n",
        "                else:\n",
        "                    row.append(self.manhattan((i, j), goal))\n",
        "            dist_matrix.append(row)\n",
        "\n",
        "        return dist_matrix\n",
        "    def updated_manhattan(self,path):\n",
        "        for (x, y) in path:\n",
        "            if self.manhattanMaze[x][y] not in ('A', 'B'):\n",
        "                self.manhattanMaze[x][y] = '*'\n",
        "    \n",
        "    # Pretty print function\n",
        "    def print_matrix(self,matrix):\n",
        "        for row in matrix:\n",
        "            row_str = \"\"\n",
        "            for val in row:\n",
        "                if val == \"█\":\n",
        "                    row_str += \"█\"   # Wall\n",
        "                elif val == 'A' or val == 'B':\n",
        "                    row_str += f\" {val} \"\n",
        "                else:\n",
        "                    row_str += f\"{val} \"  # Align numbers\n",
        "            print(row_str)\n",
        "        print()  # Extra space after the grid\n",
        "\n",
        "obj1 = MazeSolver(maze3)\n"
      ]
    },
    {
      "cell_type": "code",
      "execution_count": 23,
      "metadata": {},
      "outputs": [
        {
          "name": "stdout",
          "output_type": "stream",
          "text": [
            "\n",
            "--- Manhattan Heuristic Visualization (Distance to 'B') ---\n",
            "\u001b[1m\u001b[97m╔══════════════════════╗\u001b[0m\n",
            "\u001b[1m\u001b[97m║ \u001b[0m\u001b[1m\u001b[92mA \u001b[0m \u001b[2m9 \u001b[0m \u001b[2m8 \u001b[0m \u001b[94m██\u001b[0m \u001b[2m6 \u001b[0m \u001b[2m5 \u001b[0m \u001b[2m4 \u001b[0m \u001b[1m\u001b[97m║\u001b[0m\n",
            "\u001b[1m\u001b[97m║ \u001b[0m\u001b[94m██\u001b[0m \u001b[94m██\u001b[0m \u001b[2m7 \u001b[0m \u001b[94m██\u001b[0m \u001b[2m5 \u001b[0m \u001b[94m██\u001b[0m \u001b[2m3 \u001b[0m \u001b[1m\u001b[97m║\u001b[0m\n",
            "\u001b[1m\u001b[97m║ \u001b[0m\u001b[2m8 \u001b[0m \u001b[2m7 \u001b[0m \u001b[2m6 \u001b[0m \u001b[2m5 \u001b[0m \u001b[2m4 \u001b[0m \u001b[94m██\u001b[0m \u001b[2m2 \u001b[0m \u001b[1m\u001b[97m║\u001b[0m\n",
            "\u001b[1m\u001b[97m║ \u001b[0m\u001b[2m7 \u001b[0m \u001b[94m██\u001b[0m \u001b[94m██\u001b[0m \u001b[94m██\u001b[0m \u001b[94m██\u001b[0m \u001b[94m██\u001b[0m \u001b[2m1 \u001b[0m \u001b[1m\u001b[97m║\u001b[0m\n",
            "\u001b[1m\u001b[97m║ \u001b[0m\u001b[2m6 \u001b[0m \u001b[2m5 \u001b[0m \u001b[2m4 \u001b[0m \u001b[2m3 \u001b[0m \u001b[2m2 \u001b[0m \u001b[2m1 \u001b[0m \u001b[1m\u001b[93mB \u001b[0m \u001b[1m\u001b[97m║\u001b[0m\n",
            "\u001b[1m\u001b[97m╚══════════════════════╝\u001b[0m\n",
            "\n",
            "--- Solved Path ---\n",
            "\u001b[1m\u001b[97m╔══════════════════════╗\u001b[0m\n",
            "\u001b[1m\u001b[97m║ \u001b[0m\u001b[1m\u001b[92mA \u001b[0m \u001b[1m\u001b[96m• \u001b[0m \u001b[1m\u001b[96m• \u001b[0m \u001b[94m██\u001b[0m \u001b[1m\u001b[96m• \u001b[0m \u001b[1m\u001b[96m• \u001b[0m \u001b[1m\u001b[96m• \u001b[0m \u001b[1m\u001b[97m║\u001b[0m\n",
            "\u001b[1m\u001b[97m║ \u001b[0m\u001b[94m██\u001b[0m \u001b[94m██\u001b[0m \u001b[1m\u001b[96m• \u001b[0m \u001b[94m██\u001b[0m \u001b[1m\u001b[96m• \u001b[0m \u001b[94m██\u001b[0m \u001b[1m\u001b[96m• \u001b[0m \u001b[1m\u001b[97m║\u001b[0m\n",
            "\u001b[1m\u001b[97m║ \u001b[0m\u001b[2m8 \u001b[0m \u001b[2m7 \u001b[0m \u001b[1m\u001b[96m• \u001b[0m \u001b[1m\u001b[96m• \u001b[0m \u001b[1m\u001b[96m• \u001b[0m \u001b[94m██\u001b[0m \u001b[1m\u001b[96m• \u001b[0m \u001b[1m\u001b[97m║\u001b[0m\n",
            "\u001b[1m\u001b[97m║ \u001b[0m\u001b[2m7 \u001b[0m \u001b[94m██\u001b[0m \u001b[94m██\u001b[0m \u001b[94m██\u001b[0m \u001b[94m██\u001b[0m \u001b[94m██\u001b[0m \u001b[1m\u001b[96m• \u001b[0m \u001b[1m\u001b[97m║\u001b[0m\n",
            "\u001b[1m\u001b[97m║ \u001b[0m\u001b[2m6 \u001b[0m \u001b[2m5 \u001b[0m \u001b[2m4 \u001b[0m \u001b[2m3 \u001b[0m \u001b[2m2 \u001b[0m \u001b[2m1 \u001b[0m \u001b[1m\u001b[93mB \u001b[0m \u001b[1m\u001b[97m║\u001b[0m\n",
            "\u001b[1m\u001b[97m╚══════════════════════╝\u001b[0m\n",
            "\n"
          ]
        }
      ],
      "source": [
        "import heapq\n",
        "\n",
        "# --- Style and Color Definitions ---\n",
        "class Colors:\n",
        "    \"\"\"A class to hold ANSI color codes for styling terminal output.\"\"\"\n",
        "    RESET = '\\033[0m'\n",
        "    BOLD = '\\033[1m'\n",
        "    DIM = '\\033[2m'\n",
        "    \n",
        "    # Text Colors\n",
        "    GREEN = '\\033[92m'\n",
        "    YELLOW = '\\033[93m'\n",
        "    BLUE = '\\033[94m'\n",
        "    CYAN = '\\033[96m'\n",
        "    WHITE = '\\033[97m'\n",
        "\n",
        "# --- The Maze Definition ---\n",
        "# 0: Open path, 1: Wall, A: Start, B: Goal\n",
        "maze = [\n",
        "    ['A', 0, 0, 1, 0, 0, 0],\n",
        "    [1, 1, 0, 1, 0, 1, 0],\n",
        "    [0, 0, 0, 0, 0, 1, 0],\n",
        "    [0, 1, 1, 1, 1, 1, 0],\n",
        "    [0, 0, 0, 0, 0, 0, 'B']\n",
        "]\n",
        "\n",
        "# --- The Complete MazeSolver Class ---\n",
        "class MazeSolver:\n",
        "    def __init__(self, maze):\n",
        "        self.maze = maze\n",
        "        self.start, self.goal = self.find_positions(maze)\n",
        "\n",
        "        print(\"\\n--- Manhattan Heuristic Visualization (Distance to 'B') ---\")\n",
        "        self.manhattanMaze = self.visualize_manhattan()\n",
        "        self.print_matrix_styled(self.manhattanMaze)\n",
        "        \n",
        "        # Solve the maze using the heuristic\n",
        "        self.path = self.greedy_bfs()\n",
        "        \n",
        "        if self.path:\n",
        "            print(\"--- Solved Path ---\")\n",
        "            self.updated_manhattan(self.path)\n",
        "            self.print_matrix_styled(self.manhattanMaze)\n",
        "\n",
        "    def manhattan(self, a, b):\n",
        "        return abs(a[0] - b[0]) + abs(a[1] - b[1])\n",
        "    \n",
        "    def get_neighbors(self, pos):\n",
        "        neighbors = []\n",
        "        directions = [(-1, 0), (1, 0), (0, -1), (0, 1)]  # up, down, left, right\n",
        "        rows, cols = len(self.maze), len(self.maze[0])\n",
        "        for dx, dy in directions:\n",
        "            nx, ny = pos[0] + dx, pos[1] + dy\n",
        "            if 0 <= nx < rows and 0 <= ny < cols and self.maze[nx][ny] != 1:\n",
        "                neighbors.append((nx, ny))\n",
        "        return neighbors\n",
        "    \n",
        "    def find_positions(self, maze):\n",
        "        start = goal = None\n",
        "        for i, row in enumerate(maze):\n",
        "            for j, cell in enumerate(row):\n",
        "                if cell == 'A':\n",
        "                    start = (i, j)\n",
        "                elif cell == 'B':\n",
        "                    goal = (i, j)\n",
        "        return start, goal\n",
        "\n",
        "    def greedy_bfs(self):\n",
        "        if not self.start or not self.goal:\n",
        "            print(\"Start or goal not found in the maze.\")\n",
        "            return []\n",
        "\n",
        "        visited = set()\n",
        "        came_from = {}\n",
        "        heap = []\n",
        "        \n",
        "        heapq.heappush(heap, (self.manhattan(self.start, self.goal), self.start))\n",
        "\n",
        "        while heap:\n",
        "            _, current = heapq.heappop(heap)\n",
        "\n",
        "            if current == self.goal:\n",
        "                break\n",
        "\n",
        "            if current in visited:\n",
        "                continue\n",
        "            visited.add(current)\n",
        "\n",
        "            for neighbor in self.get_neighbors(current):\n",
        "                if neighbor not in visited:\n",
        "                    priority = self.manhattan(neighbor, self.goal)\n",
        "                    heapq.heappush(heap, (priority, neighbor))\n",
        "                    came_from[neighbor] = current\n",
        "        \n",
        "        path = []\n",
        "        curr = self.goal\n",
        "        while curr != self.start:\n",
        "            path.append(curr)\n",
        "            curr = came_from.get(curr)\n",
        "            if curr is None:\n",
        "                print(\"No path found.\")\n",
        "                return []\n",
        "        path.append(self.start)\n",
        "        path.reverse()\n",
        "        return path\n",
        "    \n",
        "    def visualize_manhattan(self):\n",
        "        rows, cols = len(self.maze), len(self.maze[0])\n",
        "        dist_matrix = []\n",
        "        for i in range(rows):\n",
        "            row = []\n",
        "            for j in range(cols):\n",
        "                if self.maze[i][j] == 1:\n",
        "                    row.append(\"█\")\n",
        "                elif (i, j) == self.start:\n",
        "                    row.append('A')\n",
        "                elif (i, j) == self.goal:\n",
        "                    row.append('B')\n",
        "                else:\n",
        "                    row.append(self.manhattan((i, j), self.goal))\n",
        "            dist_matrix.append(row)\n",
        "        return dist_matrix\n",
        "\n",
        "    def updated_manhattan(self, path):\n",
        "        for (x, y) in path:\n",
        "            if self.manhattanMaze[x][y] not in ('A', 'B'):\n",
        "                self.manhattanMaze[x][y] = '*'\n",
        "    \n",
        "    def print_matrix_styled(self, matrix):\n",
        "        \"\"\"\n",
        "        Prints the maze matrix with a game-like border and colors.\n",
        "        \"\"\"\n",
        "        rows, cols = len(matrix), len(matrix[0])\n",
        "\n",
        "        print(f\"{Colors.BOLD}{Colors.WHITE}╔{'═' * (cols * 3 + 1)}╗{Colors.RESET}\")\n",
        "\n",
        "        for row in matrix:\n",
        "            print(f\"{Colors.BOLD}{Colors.WHITE}║ {Colors.RESET}\", end=\"\")\n",
        "            for val in row:\n",
        "                cell_str = f\"{str(val):<2}\"\n",
        "                \n",
        "                if val == 'A':\n",
        "                    print(f\"{Colors.BOLD}{Colors.GREEN}{cell_str}{Colors.RESET} \", end=\"\")\n",
        "                elif val == 'B':\n",
        "                    print(f\"{Colors.BOLD}{Colors.YELLOW}{cell_str}{Colors.RESET} \", end=\"\")\n",
        "                elif val == '█':\n",
        "                    print(f\"{Colors.BLUE}{'██'}{Colors.RESET} \", end=\"\")\n",
        "                elif val == '*':\n",
        "                    print(f\"{Colors.BOLD}{Colors.CYAN}{'• '}{Colors.RESET} \", end=\"\")\n",
        "                else: # Heuristic numbers\n",
        "                    print(f\"{Colors.DIM}{cell_str}{Colors.RESET} \", end=\"\")\n",
        "            \n",
        "            print(f\"{Colors.BOLD}{Colors.WHITE}║{Colors.RESET}\")\n",
        "\n",
        "        print(f\"{Colors.BOLD}{Colors.WHITE}╚{'═' * (cols * 3 + 1)}╝{Colors.RESET}\")\n",
        "        print()\n",
        "\n",
        "\n",
        "\n",
        "solver = MazeSolver(maze)"
      ]
    },
    {
      "cell_type": "code",
      "execution_count": null,
      "metadata": {},
      "outputs": [],
      "source": []
    }
  ],
  "metadata": {
    "colab": {
      "authorship_tag": "ABX9TyMn5f7XxuaQFCzpNxYoz7ny",
      "include_colab_link": true,
      "provenance": []
    },
    "kernelspec": {
      "display_name": "Python 3",
      "name": "python3"
    },
    "language_info": {
      "codemirror_mode": {
        "name": "ipython",
        "version": 3
      },
      "file_extension": ".py",
      "mimetype": "text/x-python",
      "name": "python",
      "nbconvert_exporter": "python",
      "pygments_lexer": "ipython3",
      "version": "3.12.3"
    }
  },
  "nbformat": 4,
  "nbformat_minor": 0
}
